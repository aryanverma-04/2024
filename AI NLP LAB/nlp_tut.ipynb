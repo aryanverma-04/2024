{
 "cells": [
  {
   "cell_type": "code",
   "execution_count": 30,
   "metadata": {},
   "outputs": [],
   "source": [
    "corpus = \"\"\"Hello Welcome, to vscode's inbuilt jupyter notebook entension.\n",
    "I'm watching the tutorial of krish naik ! Very interactive and practical tutorial.\"\"\""
   ]
  },
  {
   "cell_type": "code",
   "execution_count": 31,
   "metadata": {},
   "outputs": [
    {
     "name": "stdout",
     "output_type": "stream",
     "text": [
      "Hello Welcome, to vscode's inbuilt jupyter notebook entension.\n",
      "I'm watching the tutorial of krish naik ! Very interactive and practical tutorial.\n"
     ]
    }
   ],
   "source": [
    "print(corpus)"
   ]
  },
  {
   "cell_type": "code",
   "execution_count": null,
   "metadata": {},
   "outputs": [],
   "source": [
    "## Tokenization\n",
    "## Sentence -> paragraph\n",
    "import nltk\n",
    "from nltk.tokenize import sent_tokenize\n",
    "nltk.download('punkt')"
   ]
  },
  {
   "cell_type": "code",
   "execution_count": 32,
   "metadata": {},
   "outputs": [
    {
     "data": {
      "text/plain": [
       "[\"Hello Welcome, to vscode's inbuilt jupyter notebook entension.\",\n",
       " \"I'm watching the tutorial of krish naik !\",\n",
       " 'Very interactive and practical tutorial.']"
      ]
     },
     "execution_count": 32,
     "metadata": {},
     "output_type": "execute_result"
    }
   ],
   "source": [
    "sent_tokenize(corpus)"
   ]
  },
  {
   "cell_type": "code",
   "execution_count": 33,
   "metadata": {},
   "outputs": [],
   "source": [
    "document = sent_tokenize(corpus)"
   ]
  },
  {
   "cell_type": "code",
   "execution_count": 34,
   "metadata": {},
   "outputs": [
    {
     "data": {
      "text/plain": [
       "[\"Hello Welcome, to vscode's inbuilt jupyter notebook entension.\",\n",
       " \"I'm watching the tutorial of krish naik !\",\n",
       " 'Very interactive and practical tutorial.']"
      ]
     },
     "execution_count": 34,
     "metadata": {},
     "output_type": "execute_result"
    }
   ],
   "source": [
    "document"
   ]
  },
  {
   "cell_type": "code",
   "execution_count": 35,
   "metadata": {},
   "outputs": [
    {
     "data": {
      "text/plain": [
       "list"
      ]
     },
     "execution_count": 35,
     "metadata": {},
     "output_type": "execute_result"
    }
   ],
   "source": [
    "type(document)"
   ]
  },
  {
   "cell_type": "code",
   "execution_count": 40,
   "metadata": {},
   "outputs": [
    {
     "name": "stdout",
     "output_type": "stream",
     "text": [
      "Sentence 1 -> Hello Welcome, to vscode's inbuilt jupyter notebook entension.\n",
      "Sentence 2 -> I'm watching the tutorial of krish naik !\n",
      "Sentence 3 -> Very interactive and practical tutorial.\n"
     ]
    }
   ],
   "source": [
    "i = 1\n",
    "for sentence in document:\n",
    "    print(\"Sentence \"+ str(i)+ \" -> \" + sentence)\n",
    "    i= i+1"
   ]
  },
  {
   "cell_type": "code",
   "execution_count": 41,
   "metadata": {},
   "outputs": [],
   "source": [
    "# Tokenization\n",
    "# Paragraph --> words\n",
    "# sentence --> words\n",
    "\n",
    "from nltk.tokenize import word_tokenize"
   ]
  },
  {
   "cell_type": "code",
   "execution_count": 42,
   "metadata": {},
   "outputs": [
    {
     "data": {
      "text/plain": [
       "['Hello',\n",
       " 'Welcome',\n",
       " ',',\n",
       " 'to',\n",
       " 'vscode',\n",
       " \"'s\",\n",
       " 'inbuilt',\n",
       " 'jupyter',\n",
       " 'notebook',\n",
       " 'entension',\n",
       " '.',\n",
       " 'I',\n",
       " \"'m\",\n",
       " 'watching',\n",
       " 'the',\n",
       " 'tutorial',\n",
       " 'of',\n",
       " 'krish',\n",
       " 'naik',\n",
       " '!',\n",
       " 'Very',\n",
       " 'interactive',\n",
       " 'and',\n",
       " 'practical',\n",
       " 'tutorial',\n",
       " '.']"
      ]
     },
     "execution_count": 42,
     "metadata": {},
     "output_type": "execute_result"
    }
   ],
   "source": [
    "word_tokenize(corpus)"
   ]
  },
  {
   "cell_type": "code",
   "execution_count": 45,
   "metadata": {},
   "outputs": [
    {
     "name": "stdout",
     "output_type": "stream",
     "text": [
      "Sentence 1 -> Hello Welcome, to vscode's inbuilt jupyter notebook entension.\n",
      "['Hello', 'Welcome', ',', 'to', 'vscode', \"'s\", 'inbuilt', 'jupyter', 'notebook', 'entension', '.']\n",
      "\n",
      "Sentence 2 -> I'm watching the tutorial of krish naik !\n",
      "['I', \"'m\", 'watching', 'the', 'tutorial', 'of', 'krish', 'naik', '!']\n",
      "\n",
      "Sentence 3 -> Very interactive and practical tutorial.\n",
      "['Very', 'interactive', 'and', 'practical', 'tutorial', '.']\n",
      "\n"
     ]
    }
   ],
   "source": [
    "# Assuming document is a list of sentences\n",
    "i = 1\n",
    "for sentence in document:\n",
    "    print(\"Sentence \" + str(i) + \" -> \" + sentence)\n",
    "    print(str(word_tokenize(sentence)) + \"\\n\")\n",
    "    i += 1"
   ]
  },
  {
   "cell_type": "code",
   "execution_count": 46,
   "metadata": {},
   "outputs": [],
   "source": [
    "from nltk.tokenize import wordpunct_tokenize\n"
   ]
  },
  {
   "cell_type": "code",
   "execution_count": 47,
   "metadata": {},
   "outputs": [
    {
     "data": {
      "text/plain": [
       "['Hello',\n",
       " 'Welcome',\n",
       " ',',\n",
       " 'to',\n",
       " 'vscode',\n",
       " \"'\",\n",
       " 's',\n",
       " 'inbuilt',\n",
       " 'jupyter',\n",
       " 'notebook',\n",
       " 'entension',\n",
       " '.',\n",
       " 'I',\n",
       " \"'\",\n",
       " 'm',\n",
       " 'watching',\n",
       " 'the',\n",
       " 'tutorial',\n",
       " 'of',\n",
       " 'krish',\n",
       " 'naik',\n",
       " '!',\n",
       " 'Very',\n",
       " 'interactive',\n",
       " 'and',\n",
       " 'practical',\n",
       " 'tutorial',\n",
       " '.']"
      ]
     },
     "execution_count": 47,
     "metadata": {},
     "output_type": "execute_result"
    }
   ],
   "source": [
    "wordpunct_tokenize(corpus)"
   ]
  },
  {
   "cell_type": "code",
   "execution_count": 48,
   "metadata": {},
   "outputs": [],
   "source": [
    "from nltk.tokenize import TreebankWordTokenizer\n"
   ]
  },
  {
   "cell_type": "code",
   "execution_count": 51,
   "metadata": {},
   "outputs": [
    {
     "data": {
      "text/plain": [
       "['Hello',\n",
       " 'Welcome',\n",
       " ',',\n",
       " 'to',\n",
       " 'vscode',\n",
       " \"'s\",\n",
       " 'inbuilt',\n",
       " 'jupyter',\n",
       " 'notebook',\n",
       " 'entension.',\n",
       " 'I',\n",
       " \"'m\",\n",
       " 'watching',\n",
       " 'the',\n",
       " 'tutorial',\n",
       " 'of',\n",
       " 'krish',\n",
       " 'naik',\n",
       " '!',\n",
       " 'Very',\n",
       " 'interactive',\n",
       " 'and',\n",
       " 'practical',\n",
       " 'tutorial',\n",
       " '.']"
      ]
     },
     "execution_count": 51,
     "metadata": {},
     "output_type": "execute_result"
    }
   ],
   "source": [
    "tokenizer = TreebankWordTokenizer()\n",
    "tokenizer.tokenize(corpus)"
   ]
  },
  {
   "cell_type": "code",
   "execution_count": 52,
   "metadata": {},
   "outputs": [],
   "source": [
    "from nltk.stem import PorterStemmer\n",
    "stemming = PorterStemmer()\n"
   ]
  },
  {
   "cell_type": "code",
   "execution_count": 55,
   "metadata": {},
   "outputs": [
    {
     "name": "stdout",
     "output_type": "stream",
     "text": [
      "playing---> play\n",
      "playing---> play\n",
      "played---> play\n",
      "plays---> play\n",
      "swimming---> swim\n",
      "swam---> swam\n",
      "swimming---> swim\n",
      "runner---> runner\n",
      "runners---> runner\n",
      "runner's---> runner'\n",
      "running---> run\n",
      "runs---> run\n",
      "ran---> ran\n",
      "fishing---> fish\n",
      "fished---> fish\n",
      "fishes---> fish\n",
      "fishing---> fish\n",
      "actor---> actor\n",
      "actress---> actress\n",
      "actors---> actor\n"
     ]
    }
   ],
   "source": [
    "words = [\"playing\", \"playing\", \"played\", \"plays\", \"swimming\", \"swam\", \"swimming\", \"runner\", \"runners\", \"runner's\", \"running\", \"runs\", \"ran\", \"fishing\", \"fished\", \"fishes\", \"fishing\", \"actor\", \"actress\", \"actors\"]\n",
    "\n",
    "for word in words:\n",
    "    print(word + \"---> \"+ stemming.stem(word))    "
   ]
  },
  {
   "cell_type": "code",
   "execution_count": 56,
   "metadata": {},
   "outputs": [
    {
     "data": {
      "text/plain": [
       "'congratul'"
      ]
     },
     "execution_count": 56,
     "metadata": {},
     "output_type": "execute_result"
    }
   ],
   "source": [
    "stemming.stem(\"CongratulaTions\")"
   ]
  },
  {
   "cell_type": "code",
   "execution_count": 68,
   "metadata": {},
   "outputs": [],
   "source": [
    "from nltk.stem import RegexpStemmer\n",
    "reg_stemmer = RegexpStemmer('ing$|n$|ary$', min=4)"
   ]
  },
  {
   "cell_type": "code",
   "execution_count": 69,
   "metadata": {},
   "outputs": [
    {
     "data": {
      "text/plain": [
       "'aryan'"
      ]
     },
     "execution_count": 69,
     "metadata": {},
     "output_type": "execute_result"
    }
   ],
   "source": [
    "reg_stemmer.stem('aryan')"
   ]
  },
  {
   "cell_type": "code",
   "execution_count": 70,
   "metadata": {},
   "outputs": [],
   "source": [
    "from nltk.stem import SnowballStemmer\n",
    "Snowballsstemmer = SnowballStemmer('english')\n"
   ]
  },
  {
   "cell_type": "code",
   "execution_count": 71,
   "metadata": {},
   "outputs": [
    {
     "name": "stdout",
     "output_type": "stream",
     "text": [
      "playing--->play\n",
      "playing--->play\n",
      "played--->play\n",
      "plays--->play\n",
      "swimming--->swim\n",
      "swam--->swam\n",
      "swimming--->swim\n",
      "runner--->runner\n",
      "runners--->runner\n",
      "runner's--->runner\n",
      "running--->run\n",
      "runs--->run\n",
      "ran--->ran\n",
      "fishing--->fish\n",
      "fished--->fish\n",
      "fishes--->fish\n",
      "fishing--->fish\n",
      "actor--->actor\n",
      "actress--->actress\n",
      "actors--->actor\n"
     ]
    }
   ],
   "source": [
    "for word in words: \n",
    "    print(word + \"--->\" + Snowballsstemmer.stem(word))"
   ]
  },
  {
   "cell_type": "code",
   "execution_count": 79,
   "metadata": {},
   "outputs": [],
   "source": [
    "from nltk.stem import WordNetLemmatizer\n",
    "\n",
    "# Create a WordNetLemmatizer object\n",
    "lemmatizer = WordNetLemmatizer()\n"
   ]
  },
  {
   "cell_type": "code",
   "execution_count": 81,
   "metadata": {},
   "outputs": [
    {
     "name": "stderr",
     "output_type": "stream",
     "text": [
      "[nltk_data] Downloading package wordnet to C:\\Users\\aryan\n",
      "[nltk_data]     verma\\AppData\\Roaming\\nltk_data...\n"
     ]
    },
    {
     "data": {
      "text/plain": [
       "True"
      ]
     },
     "execution_count": 81,
     "metadata": {},
     "output_type": "execute_result"
    }
   ],
   "source": [
    "nltk.download('wordnet')\n"
   ]
  },
  {
   "cell_type": "code",
   "execution_count": 83,
   "metadata": {},
   "outputs": [
    {
     "name": "stdout",
     "output_type": "stream",
     "text": [
      "playing---> play\n",
      "playing---> play\n",
      "played---> play\n",
      "plays---> play\n",
      "swimming---> swim\n",
      "swam---> swim\n",
      "swimming---> swim\n",
      "runner---> runner\n",
      "runners---> runners\n",
      "runner's---> runner's\n",
      "running---> run\n",
      "runs---> run\n",
      "ran---> run\n",
      "fishing---> fish\n",
      "fished---> fish\n",
      "fishes---> fish\n",
      "fishing---> fish\n",
      "actor---> actor\n",
      "actress---> actress\n",
      "actors---> actors\n"
     ]
    }
   ],
   "source": [
    "# Assuming words is a list of words\n",
    "for word in words:\n",
    "    print(word + \"---> \" + lemmatizer.lemmatize(word, pos=\"v\"))"
   ]
  },
  {
   "cell_type": "code",
   "execution_count": 4,
   "metadata": {},
   "outputs": [],
   "source": [
    "from nltk.stem import PorterStemmer\n",
    "from nltk.corpus import stopwords\n"
   ]
  },
  {
   "cell_type": "code",
   "execution_count": 2,
   "metadata": {},
   "outputs": [
    {
     "name": "stderr",
     "output_type": "stream",
     "text": [
      "[nltk_data] Downloading package stopwords to C:\\Users\\aryan\n",
      "[nltk_data]     verma\\AppData\\Roaming\\nltk_data...\n",
      "[nltk_data]   Unzipping corpora\\stopwords.zip.\n"
     ]
    },
    {
     "data": {
      "text/plain": [
       "True"
      ]
     },
     "execution_count": 2,
     "metadata": {},
     "output_type": "execute_result"
    }
   ],
   "source": [
    "import nltk\n",
    "nltk.download('stopwords')"
   ]
  },
  {
   "cell_type": "code",
   "execution_count": 7,
   "metadata": {},
   "outputs": [
    {
     "data": {
      "text/plain": [
       "['i',\n",
       " 'me',\n",
       " 'my',\n",
       " 'myself',\n",
       " 'we',\n",
       " 'our',\n",
       " 'ours',\n",
       " 'ourselves',\n",
       " 'you',\n",
       " \"you're\",\n",
       " \"you've\",\n",
       " \"you'll\",\n",
       " \"you'd\",\n",
       " 'your',\n",
       " 'yours',\n",
       " 'yourself',\n",
       " 'yourselves',\n",
       " 'he',\n",
       " 'him',\n",
       " 'his',\n",
       " 'himself',\n",
       " 'she',\n",
       " \"she's\",\n",
       " 'her',\n",
       " 'hers',\n",
       " 'herself',\n",
       " 'it',\n",
       " \"it's\",\n",
       " 'its',\n",
       " 'itself',\n",
       " 'they',\n",
       " 'them',\n",
       " 'their',\n",
       " 'theirs',\n",
       " 'themselves',\n",
       " 'what',\n",
       " 'which',\n",
       " 'who',\n",
       " 'whom',\n",
       " 'this',\n",
       " 'that',\n",
       " \"that'll\",\n",
       " 'these',\n",
       " 'those',\n",
       " 'am',\n",
       " 'is',\n",
       " 'are',\n",
       " 'was',\n",
       " 'were',\n",
       " 'be',\n",
       " 'been',\n",
       " 'being',\n",
       " 'have',\n",
       " 'has',\n",
       " 'had',\n",
       " 'having',\n",
       " 'do',\n",
       " 'does',\n",
       " 'did',\n",
       " 'doing',\n",
       " 'a',\n",
       " 'an',\n",
       " 'the',\n",
       " 'and',\n",
       " 'but',\n",
       " 'if',\n",
       " 'or',\n",
       " 'because',\n",
       " 'as',\n",
       " 'until',\n",
       " 'while',\n",
       " 'of',\n",
       " 'at',\n",
       " 'by',\n",
       " 'for',\n",
       " 'with',\n",
       " 'about',\n",
       " 'against',\n",
       " 'between',\n",
       " 'into',\n",
       " 'through',\n",
       " 'during',\n",
       " 'before',\n",
       " 'after',\n",
       " 'above',\n",
       " 'below',\n",
       " 'to',\n",
       " 'from',\n",
       " 'up',\n",
       " 'down',\n",
       " 'in',\n",
       " 'out',\n",
       " 'on',\n",
       " 'off',\n",
       " 'over',\n",
       " 'under',\n",
       " 'again',\n",
       " 'further',\n",
       " 'then',\n",
       " 'once',\n",
       " 'here',\n",
       " 'there',\n",
       " 'when',\n",
       " 'where',\n",
       " 'why',\n",
       " 'how',\n",
       " 'all',\n",
       " 'any',\n",
       " 'both',\n",
       " 'each',\n",
       " 'few',\n",
       " 'more',\n",
       " 'most',\n",
       " 'other',\n",
       " 'some',\n",
       " 'such',\n",
       " 'no',\n",
       " 'nor',\n",
       " 'not',\n",
       " 'only',\n",
       " 'own',\n",
       " 'same',\n",
       " 'so',\n",
       " 'than',\n",
       " 'too',\n",
       " 'very',\n",
       " 's',\n",
       " 't',\n",
       " 'can',\n",
       " 'will',\n",
       " 'just',\n",
       " 'don',\n",
       " \"don't\",\n",
       " 'should',\n",
       " \"should've\",\n",
       " 'now',\n",
       " 'd',\n",
       " 'll',\n",
       " 'm',\n",
       " 'o',\n",
       " 're',\n",
       " 've',\n",
       " 'y',\n",
       " 'ain',\n",
       " 'aren',\n",
       " \"aren't\",\n",
       " 'couldn',\n",
       " \"couldn't\",\n",
       " 'didn',\n",
       " \"didn't\",\n",
       " 'doesn',\n",
       " \"doesn't\",\n",
       " 'hadn',\n",
       " \"hadn't\",\n",
       " 'hasn',\n",
       " \"hasn't\",\n",
       " 'haven',\n",
       " \"haven't\",\n",
       " 'isn',\n",
       " \"isn't\",\n",
       " 'ma',\n",
       " 'mightn',\n",
       " \"mightn't\",\n",
       " 'mustn',\n",
       " \"mustn't\",\n",
       " 'needn',\n",
       " \"needn't\",\n",
       " 'shan',\n",
       " \"shan't\",\n",
       " 'shouldn',\n",
       " \"shouldn't\",\n",
       " 'wasn',\n",
       " \"wasn't\",\n",
       " 'weren',\n",
       " \"weren't\",\n",
       " 'won',\n",
       " \"won't\",\n",
       " 'wouldn',\n",
       " \"wouldn't\"]"
      ]
     },
     "execution_count": 7,
     "metadata": {},
     "output_type": "execute_result"
    }
   ],
   "source": [
    "stopwords.words('english')"
   ]
  }
 ],
 "metadata": {
  "kernelspec": {
   "display_name": "Python 3",
   "language": "python",
   "name": "python3"
  },
  "language_info": {
   "codemirror_mode": {
    "name": "ipython",
    "version": 3
   },
   "file_extension": ".py",
   "mimetype": "text/x-python",
   "name": "python",
   "nbconvert_exporter": "python",
   "pygments_lexer": "ipython3",
   "version": "3.11.0"
  }
 },
 "nbformat": 4,
 "nbformat_minor": 2
}
